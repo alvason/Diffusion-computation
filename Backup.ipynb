{
 "metadata": {
  "name": "",
  "signature": "sha256:ee096b00dcfaf903288b8367b3bb735cfc89e62eb0b4712112c12dda8079e4b1"
 },
 "nbformat": 3,
 "nbformat_minor": 0,
 "worksheets": [
  {
   "cells": [
    {
     "cell_type": "code",
     "collapsed": false,
     "input": [
      "# Numerical solution with traditional loop\n",
      "gridHtx = initialH.copy();\n",
      "#print gridHtx\n",
      "start_time = time.time();\n",
      "for tn in range(totalGPoint_T - 1):\n",
      "    for xn in range(totalGPoint_X):\n",
      "        if (xn - 1) < 0: leftX = 0.0\n",
      "        else: leftX = gridHtx[tn, xn - 1];\n",
      "        if (xn + 1) > totalGPoint_X - 1: rightX = 0.0\n",
      "        else: rightX = gridHtx[tn, xn + 1];    \n",
      "        gridHtx[tn + 1, xn] = gridHtx[tn , xn] + dt*(leftX - 2.0*gridHtx[tn, xn] + rightX)/(dx)**2;\n",
      "#       print 'tn = %i, xn = %i, gridHtx = %f'% (tn, xn, gridHtx[tn + 1,xn]);\n",
      "            \n",
      "stop_time = time.time(); \n",
      "total_time = stop_time - start_time;\n",
      "print ('total computational time = %f'% total_time);\n",
      "#print gridHtx  \n",
      "numberingFig = numberingFig + 1;\n",
      "plt.figure(numberingFig, figsize = AlvaFigSize);     \n",
      "plt.plot(gridX, gridHtx.T);\n",
      "plt.grid(True)\n",
      "plt.title(r'$ Numerical \\ solution \\ (dt = %f,\\ dx = %f) $'%(dt, dx), fontsize = AlvaFontSize);\n",
      "plt.xlabel(r'$x \\ (space)$', fontsize = AlvaFontSize); plt.ylabel(r'$H(x,t)$', fontsize = AlvaFontSize);\n",
      "plt.show()"
     ],
     "language": "python",
     "metadata": {},
     "outputs": []
    },
    {
     "cell_type": "code",
     "collapsed": false,
     "input": [
      "# Numerical solution with the feature of NumPy\n",
      "gridHtx = initialH.copy();\n",
      "Hgear = initialH.copy();\n",
      "#print gridHtx\n",
      "\n",
      "start_time = time.time();\n",
      "for tn in range(totalGPoint_T - 1):\n",
      "    leftX =   np.roll(Hgear[tn, :], 1); leftX[0:1] = 0.0; \n",
      "    centerX = Hgear[tn, :]; \n",
      "    rightX =  np.roll(Hgear[tn, :], -1); rightX[-1:] = 0.0;\n",
      "    \n",
      "    gridHtx[tn + 1, :] = Hgear[tn, :] + dt*(leftX - 2.0*centerX + rightX)/(dx)**2; \n",
      "    Hgear = gridHtx.copy()\n",
      "\n",
      "stop_time = time.time(); \n",
      "total_time = stop_time - start_time;\n",
      "print 'total computational time = %f'% (total_time);\n",
      "\n",
      "#print gridHtx\n",
      "numberingFig = numberingFig + 1;\n",
      "plt.figure(numberingFig, figsize = AlvaFigSize);     \n",
      "plt.plot(gridX, gridHtx.T);\n",
      "plt.grid(True)\n",
      "plt.title(r'$ Numerical \\ solution: (dt = %f,\\ dx = %f) $'%(dt, dx), fontsize = AlvaFontSize);\n",
      "plt.xlabel(r'$x \\ (space)$', fontsize = AlvaFontSize); plt.ylabel(r'$H(x,t)$', fontsize = AlvaFontSize);\n",
      "plt.show()\n",
      "\n",
      "numberingFig = numberingFig + 1;\n",
      "plt.figure(numberingFig, figsize = AlvaFigSize); \n",
      "plt.pcolor(X, Y, gridHtx);\n",
      "plt.title(r'$ Numerical \\ solution: (dt = %f,\\ dx = %f) $'%(dt, dx), fontsize = AlvaFontSize);\n",
      "plt.xlabel(r'$x \\ (space)$', fontsize = AlvaFontSize); plt.ylabel(r'$H(x,t)$', fontsize = AlvaFontSize);\n",
      "#plt.colorbar();\n",
      "plt.show()"
     ],
     "language": "python",
     "metadata": {},
     "outputs": []
    }
   ],
   "metadata": {}
  }
 ]
}